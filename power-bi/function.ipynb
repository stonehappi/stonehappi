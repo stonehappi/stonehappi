{
 "cells": [
  {
   "cell_type": "code",
   "execution_count": 2,
   "id": "bf70f1d3",
   "metadata": {},
   "outputs": [],
   "source": [
    "def pyramid_by_line(n):\n",
    "    print(\"Pyramid by line: \")\n",
    "    for i in range(1, n + 1):\n",
    "        for j in range(n - i):\n",
    "            print(\"  \", end=\" \")\n",
    "        for k in range(i, 0, -1):\n",
    "            print(k, end=\" \")\n",
    "        for l in range(2, i + 1):\n",
    "            print(l, end=\" \")\n",
    "        print()"
   ]
  },
  {
   "cell_type": "code",
   "execution_count": 3,
   "id": "df3222b4",
   "metadata": {},
   "outputs": [
    {
     "name": "stdout",
     "output_type": "stream",
     "text": [
      "Pyramid by line: \n",
      "            1 \n",
      "         2 1 2 \n",
      "      3 2 1 2 3 \n",
      "   4 3 2 1 2 3 4 \n",
      "5 4 3 2 1 2 3 4 5 \n",
      "Pyramid by line: \n",
      "               1 \n",
      "            2 1 2 \n",
      "         3 2 1 2 3 \n",
      "      4 3 2 1 2 3 4 \n",
      "   5 4 3 2 1 2 3 4 5 \n",
      "6 5 4 3 2 1 2 3 4 5 6 \n",
      "Pyramid by line: \n",
      "         1 \n",
      "      2 1 2 \n",
      "   3 2 1 2 3 \n",
      "4 3 2 1 2 3 4 \n"
     ]
    }
   ],
   "source": [
    "pyramid_by_line(5)\n",
    "pyramid_by_line(6)\n",
    "pyramid_by_line(4)"
   ]
  },
  {
   "cell_type": "code",
   "execution_count": 7,
   "id": "9bfb68c5",
   "metadata": {},
   "outputs": [],
   "source": [
    "def leave():\n",
    "    print(\"Leave from the class room (STEM)\")"
   ]
  },
  {
   "cell_type": "code",
   "execution_count": 8,
   "id": "570892fe",
   "metadata": {},
   "outputs": [
    {
     "name": "stdout",
     "output_type": "stream",
     "text": [
      "Leave from the class room (STEM)\n",
      "Leave from the class room (STEM)\n",
      "Leave from the class room (STEM)\n",
      "Leave from the class room (STEM)\n",
      "Leave from the class room (STEM)\n"
     ]
    }
   ],
   "source": [
    "leave()\n",
    "leave()\n",
    "leave()\n",
    "leave()\n",
    "leave()"
   ]
  },
  {
   "cell_type": "code",
   "execution_count": null,
   "id": "03865907",
   "metadata": {},
   "outputs": [],
   "source": [
    "def_shoot = 5\n"
   ]
  },
  {
   "cell_type": "code",
   "execution_count": null,
   "id": "ccb7604e",
   "metadata": {},
   "outputs": [],
   "source": [
    "def buy_something(money, thing):\n"
   ]
  },
  {
   "cell_type": "code",
   "execution_count": null,
   "id": "e711203d",
   "metadata": {},
   "outputs": [
    {
     "name": "stdout",
     "output_type": "stream",
     "text": [
      "Before the function\n",
      "Hello world!\n",
      "Outside of the function\n"
     ]
    }
   ],
   "source": [
    "def greet():\n",
    "    print(\"Hello world!\")\n",
    "\n",
    "print(\"Before the function\")\n",
    "greet()\n",
    "\n",
    "print(\"Outside of the function\")"
   ]
  },
  {
   "cell_type": "code",
   "execution_count": 13,
   "id": "6746ebda",
   "metadata": {},
   "outputs": [],
   "source": [
    "def weight(r, h, type):\n",
    "    v = 3.14 * r * r * h\n",
    "    if (type == \"iron\"):\n",
    "        w = v * 7870\n",
    "    elif (type == \"aluminium\"):\n",
    "        w = v * 2700\n",
    "    print(\"Weight of the cylinder is: \", w)\n",
    "        \n",
    "    "
   ]
  },
  {
   "cell_type": "code",
   "execution_count": 15,
   "id": "d2dc44aa",
   "metadata": {},
   "outputs": [
    {
     "name": "stdout",
     "output_type": "stream",
     "text": [
      "Weight of the cylinder is:  18533850.0\n"
     ]
    }
   ],
   "source": [
    "weight(5, 30, \"iron\")"
   ]
  }
 ],
 "metadata": {
  "kernelspec": {
   "display_name": "Python 3",
   "language": "python",
   "name": "python3"
  },
  "language_info": {
   "codemirror_mode": {
    "name": "ipython",
    "version": 3
   },
   "file_extension": ".py",
   "mimetype": "text/x-python",
   "name": "python",
   "nbconvert_exporter": "python",
   "pygments_lexer": "ipython3",
   "version": "3.9.6"
  }
 },
 "nbformat": 4,
 "nbformat_minor": 5
}
